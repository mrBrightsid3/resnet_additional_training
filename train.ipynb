{
 "cells": [
  {
   "cell_type": "code",
   "execution_count": 31,
   "metadata": {},
   "outputs": [
    {
     "name": "stdout",
     "output_type": "stream",
     "text": [
      "Parameter containing:\n",
      "tensor([[-0.0564, -0.0554,  0.0254,  ...,  0.1835,  0.0218, -0.0415],\n",
      "        [-0.0969, -0.0573,  0.0534,  ...,  0.2416, -0.0703, -0.0030],\n",
      "        [-0.0257,  0.0436, -0.0174,  ...,  0.1816,  0.0426,  0.0077],\n",
      "        ...,\n",
      "        [-0.0432,  0.0068,  0.0601,  ..., -0.0376,  0.0455,  0.0833],\n",
      "        [-0.0865, -0.0468,  0.1040,  ..., -0.0176, -0.0083,  0.0444],\n",
      "        [ 0.0042, -0.0356, -0.0443,  ..., -0.0197, -0.0797,  0.1877]],\n",
      "       requires_grad=True)\n"
     ]
    }
   ],
   "source": [
    "import torch\n",
    "from torchvision import models\n",
    "state_dict = torch.load('resnet34.pth')\n",
    "model = models.resnet34(pretrained=False)\n",
    "model.load_state_dict(state_dict)\n",
    "model.eval()\n",
    "print(model.fc.weight)"
   ]
  },
  {
   "cell_type": "code",
   "execution_count": 32,
   "metadata": {},
   "outputs": [],
   "source": [
    "# Создание нового слоя с   1001 выходами\n",
    "new_fc = torch.nn.Linear(512,  1001)\n",
    "\n",
    "# Копирование весов из старого слоя в новый\n",
    "with torch.no_grad():\n",
    "    new_fc.weight[1:1001] = model.fc.weight\n",
    "    new_fc.bias[1:1001] = model.fc.bias\n",
    "\n",
    "# Замена старого слоя на новый\n",
    "model.fc = new_fc\n"
   ]
  },
  {
   "cell_type": "code",
   "execution_count": 33,
   "metadata": {},
   "outputs": [
    {
     "name": "stdout",
     "output_type": "stream",
     "text": [
      "torch.Size([1001, 512])\n",
      "Parameter containing:\n",
      "tensor([[ 0.0167, -0.0090, -0.0347,  ...,  0.0146, -0.0209, -0.0345],\n",
      "        [-0.0564, -0.0554,  0.0254,  ...,  0.1835,  0.0218, -0.0415],\n",
      "        [-0.0969, -0.0573,  0.0534,  ...,  0.2416, -0.0703, -0.0030],\n",
      "        ...,\n",
      "        [-0.0432,  0.0068,  0.0601,  ..., -0.0376,  0.0455,  0.0833],\n",
      "        [-0.0865, -0.0468,  0.1040,  ..., -0.0176, -0.0083,  0.0444],\n",
      "        [ 0.0042, -0.0356, -0.0443,  ..., -0.0197, -0.0797,  0.1877]],\n",
      "       requires_grad=True)\n"
     ]
    }
   ],
   "source": [
    "print(model.fc.weight.size())\n",
    "print(model.fc.weight)"
   ]
  },
  {
   "cell_type": "code",
   "execution_count": 34,
   "metadata": {},
   "outputs": [],
   "source": [
    "from torchvision.datasets import ImageFolder\n",
    "from torchvision import transforms\n",
    "\n",
    "# Определение стандартных трансформаций\n",
    "normalize = transforms.Normalize(mean=[0.485,  0.456,  0.406], std=[0.229,  0.224,  0.225])\n",
    "transform = transforms.Compose([\n",
    "    transforms.Resize(256),\n",
    "    transforms.CenterCrop(224),\n",
    "    transforms.ToTensor(),\n",
    "    normalize\n",
    "])\n",
    "\n",
    "# Путь к директории с изображениями\n",
    "data_dir = './classes'\n",
    "dataset = ImageFolder(data_dir, transform=transform)\n"
   ]
  },
  {
   "cell_type": "code",
   "execution_count": 35,
   "metadata": {},
   "outputs": [],
   "source": [
    "from torch.utils.data import DataLoader\n",
    "\n",
    "# Параметры DataLoader\n",
    "batch_size =  64\n",
    "shuffle = True\n",
    "\n",
    "# Создание DataLoader\n",
    "dataloader = DataLoader(dataset, batch_size=batch_size, shuffle=shuffle)\n"
   ]
  },
  {
   "cell_type": "code",
   "execution_count": 36,
   "metadata": {},
   "outputs": [
    {
     "name": "stdout",
     "output_type": "stream",
     "text": [
      "Epoch 0/2: Loss: 11.5722\n",
      "Epoch 1/2: Loss: 6.9905\n",
      "Epoch 2/2: Loss: 0.8528\n"
     ]
    }
   ],
   "source": [
    "num_features = model.fc.in_features\n",
    "num_epochs = 3\n",
    "# Заморозка нижних слоев модели\n",
    "for param in model.parameters():\n",
    "    param.requires_grad = False\n",
    "\n",
    "# Размораживание верхних слоев для обучения\n",
    "for param in model.fc.parameters():\n",
    "    param.requires_grad = True\n",
    "\n",
    "# Определение функции потерь и оптимизатора\n",
    "criterion = torch.nn.CrossEntropyLoss()\n",
    "optimizer = torch.optim.SGD(model.fc.parameters(), lr=0.001, momentum=0.9)\n",
    "\n",
    "# Обучение модели*\n",
    "for epoch in range(num_epochs):\n",
    "    running_loss =  0.0\n",
    "    for inputs, labels in dataloader:\n",
    "        optimizer.zero_grad()\n",
    "        outputs = model(inputs)\n",
    "        loss = criterion(outputs, labels)\n",
    "        loss.backward()\n",
    "        optimizer.step()\n",
    "        running_loss += loss.item() * inputs.size(0)  # Умножаем на размер батча\n",
    "    epoch_loss = running_loss / len(dataset)  # Делим на общее количество элементов в наборе данных\n",
    "    print('Epoch {}/{}: Loss: {:.4f}'.format(epoch, num_epochs -  1, epoch_loss))\n"
   ]
  },
  {
   "cell_type": "code",
   "execution_count": 39,
   "metadata": {},
   "outputs": [],
   "source": [
    "# Сохранение обученной модели\n",
    "torch.save(model.state_dict(), 'trained_resnet34.pth')\n"
   ]
  }
 ],
 "metadata": {
  "kernelspec": {
   "display_name": "Python 3",
   "language": "python",
   "name": "python3"
  },
  "language_info": {
   "codemirror_mode": {
    "name": "ipython",
    "version": 3
   },
   "file_extension": ".py",
   "mimetype": "text/x-python",
   "name": "python",
   "nbconvert_exporter": "python",
   "pygments_lexer": "ipython3",
   "version": "3.10.11"
  }
 },
 "nbformat": 4,
 "nbformat_minor": 2
}
